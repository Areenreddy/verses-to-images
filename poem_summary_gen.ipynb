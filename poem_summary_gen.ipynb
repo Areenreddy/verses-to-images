{
  "cells": [
    {
      "cell_type": "code",
      "execution_count": null,
      "metadata": {
        "id": "PqBQ8S-_PXId"
      },
      "outputs": [],
      "source": [
        "import pandas as pd\n",
        "import numpy as np"
      ]
    },
    {
      "cell_type": "code",
      "execution_count": null,
      "metadata": {
        "id": "uwQFjiGUrAkb"
      },
      "outputs": [],
      "source": [
        "df = pd.read_csv(\"/content/mulimodal.csv\")"
      ]
    },
    {
      "cell_type": "code",
      "execution_count": null,
      "metadata": {
        "colab": {
          "base_uri": "https://localhost:8080/",
          "height": 493
        },
        "id": "_ng41vNdZfcI",
        "outputId": "cf501ee3-68da-4cf1-ace5-7cfb11aaaa70"
      },
      "outputs": [
        {
          "data": {
            "text/html": [
              "\n",
              "  <div id=\"df-ec56a9aa-1a5b-45cc-99e5-89c7c3edee03\" class=\"colab-df-container\">\n",
              "    <div>\n",
              "<style scoped>\n",
              "    .dataframe tbody tr th:only-of-type {\n",
              "        vertical-align: middle;\n",
              "    }\n",
              "\n",
              "    .dataframe tbody tr th {\n",
              "        vertical-align: top;\n",
              "    }\n",
              "\n",
              "    .dataframe thead th {\n",
              "        text-align: right;\n",
              "    }\n",
              "</style>\n",
              "<table border=\"1\" class=\"dataframe\">\n",
              "  <thead>\n",
              "    <tr style=\"text-align: right;\">\n",
              "      <th></th>\n",
              "      <th>Unnamed: 0</th>\n",
              "      <th>Title</th>\n",
              "      <th>Poem</th>\n",
              "      <th>our_summary</th>\n",
              "    </tr>\n",
              "  </thead>\n",
              "  <tbody>\n",
              "    <tr>\n",
              "      <th>0</th>\n",
              "      <td>0</td>\n",
              "      <td>Twinkle, Twinkle Little Star</td>\n",
              "      <td>Twinkle, twinkle little star, how I wonder wha...</td>\n",
              "      <td>In the dark and endless night, you shine with ...</td>\n",
              "    </tr>\n",
              "    <tr>\n",
              "      <th>1</th>\n",
              "      <td>1</td>\n",
              "      <td>Wheels on the bus</td>\n",
              "      <td>The wheels on the bus go round and round.\\r\\nR...</td>\n",
              "      <td>The doors on the bus go open and shut, open an...</td>\n",
              "    </tr>\n",
              "    <tr>\n",
              "      <th>2</th>\n",
              "      <td>2</td>\n",
              "      <td>Ba Ba Black Sheep</td>\n",
              "      <td>Baa, baa, black sheep.\\r\\nHave you any wool ?\\...</td>\n",
              "      <td>Baa, baa, black sheep,\\nDo you have any wool?\\...</td>\n",
              "    </tr>\n",
              "    <tr>\n",
              "      <th>3</th>\n",
              "      <td>3</td>\n",
              "      <td>Jack and Jill</td>\n",
              "      <td>Jack and Jill went up the hill\\r\\nto fetch a p...</td>\n",
              "      <td>They both cried out in pain and dismay,\\nBut t...</td>\n",
              "    </tr>\n",
              "    <tr>\n",
              "      <th>4</th>\n",
              "      <td>4</td>\n",
              "      <td>Humpty Dumpty</td>\n",
              "      <td>Humpty Dumpty sat on a wall.\\r\\nHumpty Dumpty ...</td>\n",
              "      <td>Humpty Dumpty, a popular nursery rhyme charact...</td>\n",
              "    </tr>\n",
              "    <tr>\n",
              "      <th>...</th>\n",
              "      <td>...</td>\n",
              "      <td>...</td>\n",
              "      <td>...</td>\n",
              "      <td>...</td>\n",
              "    </tr>\n",
              "    <tr>\n",
              "      <th>165</th>\n",
              "      <td>165</td>\n",
              "      <td>23. Munching Mangoes</td>\n",
              "      <td>\\n\\nMunching Mangoes\\nMunching Mangoes\\nMish m...</td>\n",
              "      <td>Mango juice drips\\nDown my chin\\nSweet and sti...</td>\n",
              "    </tr>\n",
              "    <tr>\n",
              "      <th>166</th>\n",
              "      <td>166</td>\n",
              "      <td>24. VEGETABLES</td>\n",
              "      <td>\\r\\nCarrots and pumpkins\\r\\nCabbage and peas\\r...</td>\n",
              "      <td>Broccoli and cauliflower\\nHealthy and deliciou...</td>\n",
              "    </tr>\n",
              "    <tr>\n",
              "      <th>167</th>\n",
              "      <td>167</td>\n",
              "      <td>25. I Have Two Arms...</td>\n",
              "      <td>\\r\\n\\r\\nI have two arms that swing like this, ...</td>\n",
              "      <td>I have a body that moves like this, (thrice) I...</td>\n",
              "    </tr>\n",
              "    <tr>\n",
              "      <th>168</th>\n",
              "      <td>168</td>\n",
              "      <td>26. RABBIT, RABBIT</td>\n",
              "      <td>\\n\\nRabbit, Rabbit 1, 2, 3\\nWill you come and ...</td>\n",
              "      <td>Elephant, Elephant, big and gray,\\nWhy do you ...</td>\n",
              "    </tr>\n",
              "    <tr>\n",
              "      <th>169</th>\n",
              "      <td>169</td>\n",
              "      <td>27. One Twa..</td>\n",
              "      <td>\\r\\nOne, two, one, two lets visit the zoo\\r\\nT...</td>\n",
              "      <td>Eleven, twelve, eleven, twelve see the elephan...</td>\n",
              "    </tr>\n",
              "  </tbody>\n",
              "</table>\n",
              "<p>170 rows × 4 columns</p>\n",
              "</div>\n",
              "    <div class=\"colab-df-buttons\">\n",
              "\n",
              "  <div class=\"colab-df-container\">\n",
              "    <button class=\"colab-df-convert\" onclick=\"convertToInteractive('df-ec56a9aa-1a5b-45cc-99e5-89c7c3edee03')\"\n",
              "            title=\"Convert this dataframe to an interactive table.\"\n",
              "            style=\"display:none;\">\n",
              "\n",
              "  <svg xmlns=\"http://www.w3.org/2000/svg\" height=\"24px\" viewBox=\"0 -960 960 960\">\n",
              "    <path d=\"M120-120v-720h720v720H120Zm60-500h600v-160H180v160Zm220 220h160v-160H400v160Zm0 220h160v-160H400v160ZM180-400h160v-160H180v160Zm440 0h160v-160H620v160ZM180-180h160v-160H180v160Zm440 0h160v-160H620v160Z\"/>\n",
              "  </svg>\n",
              "    </button>\n",
              "\n",
              "  <style>\n",
              "    .colab-df-container {\n",
              "      display:flex;\n",
              "      gap: 12px;\n",
              "    }\n",
              "\n",
              "    .colab-df-convert {\n",
              "      background-color: #E8F0FE;\n",
              "      border: none;\n",
              "      border-radius: 50%;\n",
              "      cursor: pointer;\n",
              "      display: none;\n",
              "      fill: #1967D2;\n",
              "      height: 32px;\n",
              "      padding: 0 0 0 0;\n",
              "      width: 32px;\n",
              "    }\n",
              "\n",
              "    .colab-df-convert:hover {\n",
              "      background-color: #E2EBFA;\n",
              "      box-shadow: 0px 1px 2px rgba(60, 64, 67, 0.3), 0px 1px 3px 1px rgba(60, 64, 67, 0.15);\n",
              "      fill: #174EA6;\n",
              "    }\n",
              "\n",
              "    .colab-df-buttons div {\n",
              "      margin-bottom: 4px;\n",
              "    }\n",
              "\n",
              "    [theme=dark] .colab-df-convert {\n",
              "      background-color: #3B4455;\n",
              "      fill: #D2E3FC;\n",
              "    }\n",
              "\n",
              "    [theme=dark] .colab-df-convert:hover {\n",
              "      background-color: #434B5C;\n",
              "      box-shadow: 0px 1px 3px 1px rgba(0, 0, 0, 0.15);\n",
              "      filter: drop-shadow(0px 1px 2px rgba(0, 0, 0, 0.3));\n",
              "      fill: #FFFFFF;\n",
              "    }\n",
              "  </style>\n",
              "\n",
              "    <script>\n",
              "      const buttonEl =\n",
              "        document.querySelector('#df-ec56a9aa-1a5b-45cc-99e5-89c7c3edee03 button.colab-df-convert');\n",
              "      buttonEl.style.display =\n",
              "        google.colab.kernel.accessAllowed ? 'block' : 'none';\n",
              "\n",
              "      async function convertToInteractive(key) {\n",
              "        const element = document.querySelector('#df-ec56a9aa-1a5b-45cc-99e5-89c7c3edee03');\n",
              "        const dataTable =\n",
              "          await google.colab.kernel.invokeFunction('convertToInteractive',\n",
              "                                                    [key], {});\n",
              "        if (!dataTable) return;\n",
              "\n",
              "        const docLinkHtml = 'Like what you see? Visit the ' +\n",
              "          '<a target=\"_blank\" href=https://colab.research.google.com/notebooks/data_table.ipynb>data table notebook</a>'\n",
              "          + ' to learn more about interactive tables.';\n",
              "        element.innerHTML = '';\n",
              "        dataTable['output_type'] = 'display_data';\n",
              "        await google.colab.output.renderOutput(dataTable, element);\n",
              "        const docLink = document.createElement('div');\n",
              "        docLink.innerHTML = docLinkHtml;\n",
              "        element.appendChild(docLink);\n",
              "      }\n",
              "    </script>\n",
              "  </div>\n",
              "\n",
              "\n",
              "<div id=\"df-598899e4-0b26-4562-9253-a6431db6eb03\">\n",
              "  <button class=\"colab-df-quickchart\" onclick=\"quickchart('df-598899e4-0b26-4562-9253-a6431db6eb03')\"\n",
              "            title=\"Suggest charts\"\n",
              "            style=\"display:none;\">\n",
              "\n",
              "<svg xmlns=\"http://www.w3.org/2000/svg\" height=\"24px\"viewBox=\"0 0 24 24\"\n",
              "     width=\"24px\">\n",
              "    <g>\n",
              "        <path d=\"M19 3H5c-1.1 0-2 .9-2 2v14c0 1.1.9 2 2 2h14c1.1 0 2-.9 2-2V5c0-1.1-.9-2-2-2zM9 17H7v-7h2v7zm4 0h-2V7h2v10zm4 0h-2v-4h2v4z\"/>\n",
              "    </g>\n",
              "</svg>\n",
              "  </button>\n",
              "\n",
              "<style>\n",
              "  .colab-df-quickchart {\n",
              "      --bg-color: #E8F0FE;\n",
              "      --fill-color: #1967D2;\n",
              "      --hover-bg-color: #E2EBFA;\n",
              "      --hover-fill-color: #174EA6;\n",
              "      --disabled-fill-color: #AAA;\n",
              "      --disabled-bg-color: #DDD;\n",
              "  }\n",
              "\n",
              "  [theme=dark] .colab-df-quickchart {\n",
              "      --bg-color: #3B4455;\n",
              "      --fill-color: #D2E3FC;\n",
              "      --hover-bg-color: #434B5C;\n",
              "      --hover-fill-color: #FFFFFF;\n",
              "      --disabled-bg-color: #3B4455;\n",
              "      --disabled-fill-color: #666;\n",
              "  }\n",
              "\n",
              "  .colab-df-quickchart {\n",
              "    background-color: var(--bg-color);\n",
              "    border: none;\n",
              "    border-radius: 50%;\n",
              "    cursor: pointer;\n",
              "    display: none;\n",
              "    fill: var(--fill-color);\n",
              "    height: 32px;\n",
              "    padding: 0;\n",
              "    width: 32px;\n",
              "  }\n",
              "\n",
              "  .colab-df-quickchart:hover {\n",
              "    background-color: var(--hover-bg-color);\n",
              "    box-shadow: 0 1px 2px rgba(60, 64, 67, 0.3), 0 1px 3px 1px rgba(60, 64, 67, 0.15);\n",
              "    fill: var(--button-hover-fill-color);\n",
              "  }\n",
              "\n",
              "  .colab-df-quickchart-complete:disabled,\n",
              "  .colab-df-quickchart-complete:disabled:hover {\n",
              "    background-color: var(--disabled-bg-color);\n",
              "    fill: var(--disabled-fill-color);\n",
              "    box-shadow: none;\n",
              "  }\n",
              "\n",
              "  .colab-df-spinner {\n",
              "    border: 2px solid var(--fill-color);\n",
              "    border-color: transparent;\n",
              "    border-bottom-color: var(--fill-color);\n",
              "    animation:\n",
              "      spin 1s steps(1) infinite;\n",
              "  }\n",
              "\n",
              "  @keyframes spin {\n",
              "    0% {\n",
              "      border-color: transparent;\n",
              "      border-bottom-color: var(--fill-color);\n",
              "      border-left-color: var(--fill-color);\n",
              "    }\n",
              "    20% {\n",
              "      border-color: transparent;\n",
              "      border-left-color: var(--fill-color);\n",
              "      border-top-color: var(--fill-color);\n",
              "    }\n",
              "    30% {\n",
              "      border-color: transparent;\n",
              "      border-left-color: var(--fill-color);\n",
              "      border-top-color: var(--fill-color);\n",
              "      border-right-color: var(--fill-color);\n",
              "    }\n",
              "    40% {\n",
              "      border-color: transparent;\n",
              "      border-right-color: var(--fill-color);\n",
              "      border-top-color: var(--fill-color);\n",
              "    }\n",
              "    60% {\n",
              "      border-color: transparent;\n",
              "      border-right-color: var(--fill-color);\n",
              "    }\n",
              "    80% {\n",
              "      border-color: transparent;\n",
              "      border-right-color: var(--fill-color);\n",
              "      border-bottom-color: var(--fill-color);\n",
              "    }\n",
              "    90% {\n",
              "      border-color: transparent;\n",
              "      border-bottom-color: var(--fill-color);\n",
              "    }\n",
              "  }\n",
              "</style>\n",
              "\n",
              "  <script>\n",
              "    async function quickchart(key) {\n",
              "      const quickchartButtonEl =\n",
              "        document.querySelector('#' + key + ' button');\n",
              "      quickchartButtonEl.disabled = true;  // To prevent multiple clicks.\n",
              "      quickchartButtonEl.classList.add('colab-df-spinner');\n",
              "      try {\n",
              "        const charts = await google.colab.kernel.invokeFunction(\n",
              "            'suggestCharts', [key], {});\n",
              "      } catch (error) {\n",
              "        console.error('Error during call to suggestCharts:', error);\n",
              "      }\n",
              "      quickchartButtonEl.classList.remove('colab-df-spinner');\n",
              "      quickchartButtonEl.classList.add('colab-df-quickchart-complete');\n",
              "    }\n",
              "    (() => {\n",
              "      let quickchartButtonEl =\n",
              "        document.querySelector('#df-598899e4-0b26-4562-9253-a6431db6eb03 button');\n",
              "      quickchartButtonEl.style.display =\n",
              "        google.colab.kernel.accessAllowed ? 'block' : 'none';\n",
              "    })();\n",
              "  </script>\n",
              "</div>\n",
              "\n",
              "  <div id=\"id_d6b2b382-eb67-4089-89d6-d39c03029b27\">\n",
              "    <style>\n",
              "      .colab-df-generate {\n",
              "        background-color: #E8F0FE;\n",
              "        border: none;\n",
              "        border-radius: 50%;\n",
              "        cursor: pointer;\n",
              "        display: none;\n",
              "        fill: #1967D2;\n",
              "        height: 32px;\n",
              "        padding: 0 0 0 0;\n",
              "        width: 32px;\n",
              "      }\n",
              "\n",
              "      .colab-df-generate:hover {\n",
              "        background-color: #E2EBFA;\n",
              "        box-shadow: 0px 1px 2px rgba(60, 64, 67, 0.3), 0px 1px 3px 1px rgba(60, 64, 67, 0.15);\n",
              "        fill: #174EA6;\n",
              "      }\n",
              "\n",
              "      [theme=dark] .colab-df-generate {\n",
              "        background-color: #3B4455;\n",
              "        fill: #D2E3FC;\n",
              "      }\n",
              "\n",
              "      [theme=dark] .colab-df-generate:hover {\n",
              "        background-color: #434B5C;\n",
              "        box-shadow: 0px 1px 3px 1px rgba(0, 0, 0, 0.15);\n",
              "        filter: drop-shadow(0px 1px 2px rgba(0, 0, 0, 0.3));\n",
              "        fill: #FFFFFF;\n",
              "      }\n",
              "    </style>\n",
              "    <button class=\"colab-df-generate\" onclick=\"generateWithVariable('df')\"\n",
              "            title=\"Generate code using this dataframe.\"\n",
              "            style=\"display:none;\">\n",
              "\n",
              "  <svg xmlns=\"http://www.w3.org/2000/svg\" height=\"24px\"viewBox=\"0 0 24 24\"\n",
              "       width=\"24px\">\n",
              "    <path d=\"M7,19H8.4L18.45,9,17,7.55,7,17.6ZM5,21V16.75L18.45,3.32a2,2,0,0,1,2.83,0l1.4,1.43a1.91,1.91,0,0,1,.58,1.4,1.91,1.91,0,0,1-.58,1.4L9.25,21ZM18.45,9,17,7.55Zm-12,3A5.31,5.31,0,0,0,4.9,8.1,5.31,5.31,0,0,0,1,6.5,5.31,5.31,0,0,0,4.9,4.9,5.31,5.31,0,0,0,6.5,1,5.31,5.31,0,0,0,8.1,4.9,5.31,5.31,0,0,0,12,6.5,5.46,5.46,0,0,0,6.5,12Z\"/>\n",
              "  </svg>\n",
              "    </button>\n",
              "    <script>\n",
              "      (() => {\n",
              "      const buttonEl =\n",
              "        document.querySelector('#id_d6b2b382-eb67-4089-89d6-d39c03029b27 button.colab-df-generate');\n",
              "      buttonEl.style.display =\n",
              "        google.colab.kernel.accessAllowed ? 'block' : 'none';\n",
              "\n",
              "      buttonEl.onclick = () => {\n",
              "        google.colab.notebook.generateWithVariable('df');\n",
              "      }\n",
              "      })();\n",
              "    </script>\n",
              "  </div>\n",
              "\n",
              "    </div>\n",
              "  </div>\n"
            ],
            "text/plain": [
              "     Unnamed: 0                         Title  \\\n",
              "0             0  Twinkle, Twinkle Little Star   \n",
              "1             1             Wheels on the bus   \n",
              "2             2             Ba Ba Black Sheep   \n",
              "3             3                 Jack and Jill   \n",
              "4             4                 Humpty Dumpty   \n",
              "..          ...                           ...   \n",
              "165         165          23. Munching Mangoes   \n",
              "166         166                24. VEGETABLES   \n",
              "167         167        25. I Have Two Arms...   \n",
              "168         168            26. RABBIT, RABBIT   \n",
              "169         169                 27. One Twa..   \n",
              "\n",
              "                                                  Poem  \\\n",
              "0    Twinkle, twinkle little star, how I wonder wha...   \n",
              "1    The wheels on the bus go round and round.\\r\\nR...   \n",
              "2    Baa, baa, black sheep.\\r\\nHave you any wool ?\\...   \n",
              "3    Jack and Jill went up the hill\\r\\nto fetch a p...   \n",
              "4    Humpty Dumpty sat on a wall.\\r\\nHumpty Dumpty ...   \n",
              "..                                                 ...   \n",
              "165  \\n\\nMunching Mangoes\\nMunching Mangoes\\nMish m...   \n",
              "166  \\r\\nCarrots and pumpkins\\r\\nCabbage and peas\\r...   \n",
              "167  \\r\\n\\r\\nI have two arms that swing like this, ...   \n",
              "168  \\n\\nRabbit, Rabbit 1, 2, 3\\nWill you come and ...   \n",
              "169  \\r\\nOne, two, one, two lets visit the zoo\\r\\nT...   \n",
              "\n",
              "                                           our_summary  \n",
              "0    In the dark and endless night, you shine with ...  \n",
              "1    The doors on the bus go open and shut, open an...  \n",
              "2    Baa, baa, black sheep,\\nDo you have any wool?\\...  \n",
              "3    They both cried out in pain and dismay,\\nBut t...  \n",
              "4    Humpty Dumpty, a popular nursery rhyme charact...  \n",
              "..                                                 ...  \n",
              "165  Mango juice drips\\nDown my chin\\nSweet and sti...  \n",
              "166  Broccoli and cauliflower\\nHealthy and deliciou...  \n",
              "167  I have a body that moves like this, (thrice) I...  \n",
              "168  Elephant, Elephant, big and gray,\\nWhy do you ...  \n",
              "169  Eleven, twelve, eleven, twelve see the elephan...  \n",
              "\n",
              "[170 rows x 4 columns]"
            ]
          },
          "execution_count": 13,
          "metadata": {},
          "output_type": "execute_result"
        }
      ],
      "source": [
        "df"
      ]
    },
    {
      "cell_type": "code",
      "execution_count": null,
      "metadata": {
        "colab": {
          "base_uri": "https://localhost:8080/"
        },
        "id": "7ydUDOs5Uz0X",
        "outputId": "060e79c5-95cb-4c04-a873-6083b4cf277b"
      },
      "outputs": [
        {
          "data": {
            "text/plain": [
              "40.631351710395215"
            ]
          },
          "execution_count": 10,
          "metadata": {},
          "output_type": "execute_result"
        }
      ],
      "source": [
        "np.mean(np.array([len(i.split(\" \")) for i in df[\"our_summary\"]]))"
      ]
    },
    {
      "cell_type": "code",
      "execution_count": null,
      "metadata": {
        "id": "1GoeNCVuC9uz"
      },
      "outputs": [],
      "source": [
        "form_summ , topic_summ = [], []"
      ]
    },
    {
      "cell_type": "code",
      "execution_count": null,
      "metadata": {
        "id": "_WS_tGnrD9No"
      },
      "outputs": [],
      "source": [
        "import os\n",
        "\n",
        "def read_files_in_directory(directory_path):\n",
        "    file_contents = []\n",
        "\n",
        "    # Walk through the directory and its subdirectories\n",
        "    for root, dirs, files in os.walk(directory_path):\n",
        "        for file_name in files:\n",
        "            file_path = os.path.join(root, file_name)\n",
        "\n",
        "            # Read the content of each file and append it to the list\n",
        "            with open(file_path, 'r') as file:\n",
        "                content = file.read()\n",
        "                file_contents.append(content)\n",
        "\n",
        "    return file_contents"
      ]
    },
    {
      "cell_type": "code",
      "execution_count": null,
      "metadata": {
        "id": "AE5AiXyFEeqn"
      },
      "outputs": [],
      "source": [
        "form_summ , topic_summ = read_files_in_directory(\"/content/summary_forms\"), read_files_in_directory(\"/content/summary_topics\"),"
      ]
    },
    {
      "cell_type": "code",
      "execution_count": null,
      "metadata": {
        "id": "yUmVVNc5ra0b"
      },
      "outputs": [],
      "source": [
        "all_summ = df[\"our_summary\"].tolist()"
      ]
    },
    {
      "cell_type": "code",
      "execution_count": null,
      "metadata": {
        "colab": {
          "base_uri": "https://localhost:8080/"
        },
        "id": "gPMtXwpwIHZH",
        "outputId": "59b5d1c8-192d-42a6-ef2e-9f4feb3ca1dd"
      },
      "outputs": [
        {
          "name": "stdout",
          "output_type": "stream",
          "text": [
            "Collecting textstat\n",
            "  Downloading textstat-0.7.3-py3-none-any.whl (105 kB)\n",
            "\u001b[2K     \u001b[90m━━━━━━━━━━━━━━━━━━━━━━━━━━━━━━━━━━━━━━━━\u001b[0m \u001b[32m105.1/105.1 kB\u001b[0m \u001b[31m2.1 MB/s\u001b[0m eta \u001b[36m0:00:00\u001b[0m\n",
            "\u001b[?25hCollecting pyphen (from textstat)\n",
            "  Downloading pyphen-0.14.0-py3-none-any.whl (2.0 MB)\n",
            "\u001b[2K     \u001b[90m━━━━━━━━━━━━━━━━━━━━━━━━━━━━━━━━━━━━━━━━\u001b[0m \u001b[32m2.0/2.0 MB\u001b[0m \u001b[31m28.7 MB/s\u001b[0m eta \u001b[36m0:00:00\u001b[0m\n",
            "\u001b[?25hInstalling collected packages: pyphen, textstat\n",
            "Successfully installed pyphen-0.14.0 textstat-0.7.3\n"
          ]
        }
      ],
      "source": [
        "! pip install textstat"
      ]
    },
    {
      "cell_type": "code",
      "execution_count": null,
      "metadata": {
        "id": "hqyTRI32EwyL"
      },
      "outputs": [],
      "source": [
        "import spacy\n",
        "import pandas as pd\n",
        "from tqdm import tqdm\n",
        "import textstat\n",
        "\n",
        "nlp = spacy.load(\"en_core_web_sm\")\n",
        "\n",
        "\n",
        "def calculate_abstractness_concreteness(text):\n",
        "\n",
        "    doc = nlp(text)\n",
        "    fkgl = textstat.flesch_kincaid_grade(text)\n",
        "    dcrs = textstat.dale_chall_readability_score(text)\n",
        "    cli = textstat.coleman_liau_index(text)\n",
        "\n",
        "    abstract_words = sum(1 for token in doc if token.pos_ in [ 'VERB', 'ADJ', 'ADV'])\n",
        "    total_words = len(doc)\n",
        "    abstractness = abstract_words / total_words if total_words > 0 else 0.0\n",
        "\n",
        "    concreteness = 1.0 - abstractness\n",
        "\n",
        "    return abstractness, concreteness, fkgl, dcrs, cli"
      ]
    },
    {
      "cell_type": "code",
      "execution_count": null,
      "metadata": {
        "id": "0zy2YC-xJ9-J"
      },
      "outputs": [],
      "source": [
        "def calculate_average_scores(texts):\n",
        "    total_abstractness = 0\n",
        "    total_concreteness = 0\n",
        "    total_fkgl = 0\n",
        "    total_dcrs = 0\n",
        "    total_cli = 0\n",
        "\n",
        "    for text in tqdm(texts):\n",
        "        abstractness, concreteness, fkgl, dcrs, cli = calculate_abstractness_concreteness(text)\n",
        "        total_abstractness += abstractness\n",
        "        total_concreteness += concreteness\n",
        "        total_fkgl += fkgl\n",
        "        total_dcrs += dcrs\n",
        "        total_cli += cli\n",
        "\n",
        "    num_texts = len(texts)\n",
        "    avg_abstractness = total_abstractness / num_texts\n",
        "    avg_concreteness = total_concreteness / num_texts\n",
        "    avg_fkgl = total_fkgl / num_texts\n",
        "    avg_dcrs = total_dcrs / num_texts\n",
        "    avg_cli = total_cli / num_texts\n",
        "\n",
        "    return avg_abstractness, avg_concreteness, avg_fkgl, avg_dcrs, avg_cli"
      ]
    },
    {
      "cell_type": "code",
      "execution_count": null,
      "metadata": {
        "colab": {
          "base_uri": "https://localhost:8080/"
        },
        "id": "6jr2QRdbZ19x",
        "outputId": "bdad3c60-8c15-4b52-8ba2-37d045526fea"
      },
      "outputs": [
        {
          "name": "stderr",
          "output_type": "stream",
          "text": [
            "100%|██████████| 170/170 [00:07<00:00, 23.01it/s]\n"
          ]
        },
        {
          "data": {
            "text/plain": [
              "(0.204218415405429,\n",
              " 0.7957815845945705,\n",
              " 8.82176470588235,\n",
              " 7.45788235294118,\n",
              " 6.601529411764703)"
            ]
          },
          "execution_count": 18,
          "metadata": {},
          "output_type": "execute_result"
        }
      ],
      "source": [
        "calculate_average_scores(list(df[\"our_summary\"]))"
      ]
    },
    {
      "cell_type": "code",
      "execution_count": null,
      "metadata": {
        "colab": {
          "base_uri": "https://localhost:8080/"
        },
        "id": "SvlwChW_KTzF",
        "outputId": "5cccd101-9cc0-47ba-932f-bcd178c79261"
      },
      "outputs": [
        {
          "name": "stderr",
          "output_type": "stream",
          "text": [
            "100%|██████████| 6321/6321 [01:21<00:00, 77.78it/s]\n"
          ]
        },
        {
          "data": {
            "text/plain": [
              "(0.21127168800387822,\n",
              " 0.7887283119961307,\n",
              " 9.0180351210251,\n",
              " 9.953888625217505,\n",
              " 11.299346622369853)"
            ]
          },
          "execution_count": 20,
          "metadata": {},
          "output_type": "execute_result"
        }
      ],
      "source": [
        "calculate_average_scores(form_summ)"
      ]
    },
    {
      "cell_type": "code",
      "execution_count": null,
      "metadata": {
        "colab": {
          "base_uri": "https://localhost:8080/"
        },
        "id": "PTRGOVVBKzTk",
        "outputId": "d2f05be1-6220-45e9-f684-dbb28611d644"
      },
      "outputs": [
        {
          "name": "stderr",
          "output_type": "stream",
          "text": [
            "100%|██████████| 14334/14334 [03:06<00:00, 77.06it/s]\n"
          ]
        },
        {
          "data": {
            "text/plain": [
              "(0.21307783487725362,\n",
              " 0.7869221651227357,\n",
              " 9.061448304729941,\n",
              " 9.692459187944781,\n",
              " 11.271083437979614)"
            ]
          },
          "execution_count": 21,
          "metadata": {},
          "output_type": "execute_result"
        }
      ],
      "source": [
        "calculate_average_scores(topic_summ)"
      ]
    },
    {
      "cell_type": "code",
      "execution_count": null,
      "metadata": {
        "id": "MkShjgDrLq2V"
      },
      "outputs": [],
      "source": [
        "summ = form_summ.extend(topic_summ)"
      ]
    },
    {
      "cell_type": "code",
      "execution_count": null,
      "metadata": {
        "colab": {
          "base_uri": "https://localhost:8080/"
        },
        "id": "4avxah4OKasU",
        "outputId": "327a8c64-4078-4936-e3d3-1e69ca2fc892"
      },
      "outputs": [
        {
          "name": "stderr",
          "output_type": "stream",
          "text": [
            "100%|██████████| 20655/20655 [04:11<00:00, 82.17it/s]\n"
          ]
        },
        {
          "data": {
            "text/plain": [
              "(0.2125251040911635,\n",
              " 0.7874748959088036,\n",
              " 9.04816267247644,\n",
              " 9.772463810215571,\n",
              " 11.2797327523601)"
            ]
          },
          "execution_count": 32,
          "metadata": {},
          "output_type": "execute_result"
        }
      ],
      "source": [
        "calculate_average_scores(form_summ)"
      ]
    },
    {
      "cell_type": "code",
      "execution_count": null,
      "metadata": {
        "colab": {
          "base_uri": "https://localhost:8080/"
        },
        "id": "MuG8n6QKK_xo",
        "outputId": "ad58a138-d2e5-4698-bfa3-8c872a0a585f"
      },
      "outputs": [
        {
          "name": "stderr",
          "output_type": "stream",
          "text": [
            "100%|██████████| 3011/3011 [00:53<00:00, 56.53it/s]\n"
          ]
        },
        {
          "data": {
            "text/plain": [
              "(0.21395661406999766,\n",
              " 0.7860433859300031,\n",
              " 8.70820325473265,\n",
              " 9.601235469943498,\n",
              " 10.983334440385281)"
            ]
          },
          "execution_count": 12,
          "metadata": {},
          "output_type": "execute_result"
        }
      ],
      "source": [
        "calculate_average_scores(all_summ)"
      ]
    },
    {
      "cell_type": "code",
      "execution_count": null,
      "metadata": {
        "id": "qICLi3YorqrU"
      },
      "outputs": [],
      "source": []
    }
  ],
  "metadata": {
    "colab": {
      "provenance": []
    },
    "kernelspec": {
      "display_name": "Python 3",
      "name": "python3"
    },
    "language_info": {
      "name": "python"
    }
  },
  "nbformat": 4,
  "nbformat_minor": 0
}
